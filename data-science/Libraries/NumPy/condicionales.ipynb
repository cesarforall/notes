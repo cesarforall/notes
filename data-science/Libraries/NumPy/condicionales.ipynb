{
 "cells": [
  {
   "cell_type": "code",
   "execution_count": 40,
   "metadata": {},
   "outputs": [],
   "source": [
    "import numpy as np"
   ]
  },
  {
   "cell_type": "code",
   "execution_count": 41,
   "metadata": {},
   "outputs": [
    {
     "data": {
      "text/plain": [
       "array([ 1,  2,  3,  4,  5,  6,  7,  8,  9, 10], dtype=int8)"
      ]
     },
     "execution_count": 41,
     "metadata": {},
     "output_type": "execute_result"
    }
   ],
   "source": [
    "arr = np.linspace(1,10,10, dtype='int8')\n",
    "arr"
   ]
  },
  {
   "cell_type": "markdown",
   "metadata": {},
   "source": [
    "Analizar si los elementos del array son mayores que devuelve un array con verdadero o falso"
   ]
  },
  {
   "cell_type": "code",
   "execution_count": 42,
   "metadata": {},
   "outputs": [
    {
     "data": {
      "text/plain": [
       "array([False, False, False, False, False,  True,  True,  True,  True,\n",
       "        True])"
      ]
     },
     "execution_count": 42,
     "metadata": {},
     "output_type": "execute_result"
    }
   ],
   "source": [
    "condicion = arr > 5\n",
    "condicion"
   ]
  },
  {
   "cell_type": "markdown",
   "metadata": {},
   "source": [
    "Se obtiene el resultado aplicando la condición accediendo al índice"
   ]
  },
  {
   "cell_type": "code",
   "execution_count": 43,
   "metadata": {},
   "outputs": [
    {
     "data": {
      "text/plain": [
       "array([ 6,  7,  8,  9, 10], dtype=int8)"
      ]
     },
     "execution_count": 43,
     "metadata": {},
     "output_type": "execute_result"
    }
   ],
   "source": [
    "arr[condicion]"
   ]
  },
  {
   "cell_type": "markdown",
   "metadata": {},
   "source": [
    "Se puede aplicar operadores para añadir más condiciones"
   ]
  },
  {
   "cell_type": "code",
   "execution_count": 44,
   "metadata": {},
   "outputs": [
    {
     "data": {
      "text/plain": [
       "array([6, 7, 8], dtype=int8)"
      ]
     },
     "execution_count": 44,
     "metadata": {},
     "output_type": "execute_result"
    }
   ],
   "source": [
    "arr[(condicion) & (arr < 9)]"
   ]
  },
  {
   "cell_type": "markdown",
   "metadata": {},
   "source": [
    "Reasignar valores a elementos que cumplan una condición en un array"
   ]
  },
  {
   "cell_type": "code",
   "execution_count": 45,
   "metadata": {},
   "outputs": [
    {
     "data": {
      "text/plain": [
       "array([ 1,  2,  3,  4,  5,  6, 99, 99, 99, 99], dtype=int8)"
      ]
     },
     "execution_count": 45,
     "metadata": {},
     "output_type": "execute_result"
    }
   ],
   "source": [
    "arr[arr > 6] = 99\n",
    "arr"
   ]
  },
  {
   "cell_type": "markdown",
   "metadata": {},
   "source": [
    "## Challenge\n",
    "Crear un tensor de 3 dimensiones con 3 matrices de 10 * 10 y valores aleatorios entre 4 y 400. Hacer un slice de los 60 últimos valores de la matriz 3 del segundo ejemplo y cambiar los valores que sean mayores de 200 a 1."
   ]
  },
  {
   "cell_type": "markdown",
   "metadata": {},
   "source": [
    "- crear una matriz de 10 * 10\n",
    "- crear un tensor con 3 matrices\n",
    "- seleccionar los 60 últimos valores de la última matriz\n",
    "- cambiar los valores que cumplan una condición"
   ]
  },
  {
   "cell_type": "code",
   "execution_count": 120,
   "metadata": {},
   "outputs": [
    {
     "name": "stdout",
     "output_type": "stream",
     "text": [
      "dimensions:  3\n",
      "[[[253 115 299 262 200 337 257 123  83 247 143  92 209 240  94 114  36\n",
      "   304 288  79 307   5 315 324  90 190  65 161 114 317 268 228 111 102\n",
      "   224 357 152  82  72 175 291 346 344 224 320 367 376 370 146 195 259\n",
      "   229 231 395  63 183 270 203 357 249  20 296 195 327  71 103 227 119\n",
      "   159 225 207  48 218 194 199 359 105 242 372 292  42  72 317 385 317\n",
      "   257 388 100 307 351 376 148 266  51 250   9 243 260 239 258]\n",
      "  [  6  53 287  45  11 212 249 350 234 190  56 164 241 318 298 144 377\n",
      "    27 397  86 352 163 330 243 159 273  80  11  13 211 144 328 289 153\n",
      "   165 209 359 380  45 290 291  15 383 248   7 374  71 327 238 336 117\n",
      "   229 389  45 325 143  94 333 128 196 134 396 100 321  15 171 181  31\n",
      "    65 226 213 287 212 266 242  79 318 256 141 207  92 243  82 170 219\n",
      "   303  38 282 114 130  40 338 231 255 152 260 342 261 357 215]\n",
      "  [306 162 234  37 294 393  17 144 188 247  24 343 112 360 325 324  11\n",
      "   373 123 163 363 267 371 246 222  29 242 382 154 170 163 220  77  97\n",
      "   278 254 171 236 356 306 217 154  51  94 366 117 195 288 269 373 189\n",
      "    20 323 129 201 212 369  43  93 200 216 206 334 315  16 308 223 151\n",
      "   397 260  79 266 240  35 175  97 198 190  83 175 297 212 299 107 286\n",
      "   202  93 351 137  91 146 182 216 189  63 257 252 196 101  31]]\n",
      "\n",
      " [[ 83 253 366 321 283  78 281  36 152 324 226 294 172 358 380 173 237\n",
      "   342 338  88 207   7  82 189 341 217  98 135  87 225  80 227  83 210\n",
      "   153 251 285  98 314 203 174  18 118 376 304  29 323 175 349 304 218\n",
      "   127 195 272 134  23 279 127 236 283  81 137 148  50  17 366 127 114\n",
      "   205 398 170  64 123 196 192 169 237 280  85 327 200 216  50 101 209\n",
      "   353 217 266 103  52 361  40 354 115 181 222 308 263 290  19]\n",
      "  [231  11 398 220 305  87 366 182  10 143 262 373 225 103  13 222 308\n",
      "   273 360 330 132  66 194 135 232 250  56  78 153  57 227 296 185  46\n",
      "   150  27 296 256  57 124 300 332 386 384 399  96  76 255 159 152 200\n",
      "   184  85 270 320 166 210 348 234 361 227 282 395 116 103 255 309 114\n",
      "    17  28 339 290 292 119 346 383 244 338 361 194 344 236 379 122  36\n",
      "   347  79 289 187 335 222 294 137 274 310 351  22  56 233 137]\n",
      "  [360 399  94 194 180 354 169 380 216 135 202 280 100 305  79 374 226\n",
      "   331 312  47 184 246 344 373 206 393 344 219  88   5 280 359  51 375\n",
      "   286 164 238  30  56 158  83 164  58  75  98 253 184  52 329 253 201\n",
      "   243  42 205 353 124  73 391  63  65 378  43  24 331 163  73  78  87\n",
      "   385 251 346 166 138  53 210 355  32 276 380 160 255 194 124 191 337\n",
      "    50 101 364 385 339 267 169 386 372 249 146 100 142 265 343]]\n",
      "\n",
      " [[ 10 349 338  30 295 101  79  86  52 371 194 321 151 381  40  14  56\n",
      "    36  19 253 175  10 374  65 133 242  34 377 317 267 302 232 147 177\n",
      "     7 132 105  63 266 273  61 215  45 135 137 321 362   6 100 343 366\n",
      "   381 384  13 115 394 309 279  79 376 235 115 111 133 282 238 135 288\n",
      "   330 153  82 223 254 320  52 147 311 368 192 146 212  37  14 389  80\n",
      "   327 334  56 180 397 110  28 272 168 126 179  76 181 105 354]\n",
      "  [193 350 354 273 323 304  89 372 187 237  51 379 300 287 120 120 190\n",
      "   140 311 141 369 115 296  73 265 283 335 248 301 337  14 146 200 200\n",
      "    81 367  67 213 243  38  27 347 223 384 221 204 194 281 266 154 374\n",
      "   266 364 127  27 218 304  79 154  77 195 179  95 343 265  50 114 223\n",
      "   123 349 205 186  84 160 214 218  69 101 248 226 279 134 100 381 251\n",
      "   249 112 201  90 258 241 156 239  66 162  81  88  42 268 279]\n",
      "  [137 246 394 259 220 286 294 216 342  87 234 213  10  85  53 376 399\n",
      "   381  69  89 287 345 203 290 129  21 303 140 306 119 109 217  28  94\n",
      "   267  86 190 210  11 251  61 154 183  32  98 153  50 353 241 234 258\n",
      "    43  57 286 137 274 361 244  49 200 173 328 275  65  60 142 358 267\n",
      "   238 186  31   4 316  26 263  30 255  29 215 297  47 245 330 310 334\n",
      "    77 163  66 154 163  56  48 155  72 180  38 322 108 385 250]]]\n"
     ]
    }
   ],
   "source": [
    "def randomMatriz():\n",
    "    vector = np.random.randint(4,400,(10*10))\n",
    "    np.array(vector)\n",
    "    return vector\n",
    "tensor = np.array([[randomMatriz(), randomMatriz(), randomMatriz()], [randomMatriz(), randomMatriz(), randomMatriz()], [randomMatriz(), randomMatriz(), randomMatriz()]])\n",
    "\n",
    "print('dimensions: ', tensor.ndim)\n",
    "print(tensor)"
   ]
  },
  {
   "cell_type": "code",
   "execution_count": 134,
   "metadata": {},
   "outputs": [
    {
     "name": "stdout",
     "output_type": "stream",
     "text": [
      "[173   1   1  65  60 142   1   1   1 186  31   4   1  26   1  30   1  29\n",
      "   1   1  47   1   1   1   1  77 163  66 154 163  56  48 155  72 180  38\n",
      "   1 108   1   1]\n"
     ]
    }
   ],
   "source": [
    "tensor_copy = tensor[-1][-1]\n",
    "last_tensor = tensor_copy[60:]\n",
    "last_tensor[last_tensor > 200] = 1\n",
    "print(last_tensor)"
   ]
  },
  {
   "cell_type": "code",
   "execution_count": 133,
   "metadata": {},
   "outputs": [
    {
     "data": {
      "text/plain": [
       "array([[173,   1,   1,  65,  60],\n",
       "       [142,   1,   1,   1, 186],\n",
       "       [ 31,   4,   1,  26,   1],\n",
       "       [ 30,   1,  29,   1,   1],\n",
       "       [ 47,   1,   1,   1,   1],\n",
       "       [ 77, 163,  66, 154, 163],\n",
       "       [ 56,  48, 155,  72, 180],\n",
       "       [ 38,   1, 108,   1,   1]])"
      ]
     },
     "execution_count": 133,
     "metadata": {},
     "output_type": "execute_result"
    }
   ],
   "source": [
    "last_tensor.size\n",
    "last_tensor.reshape(8,5)"
   ]
  }
 ],
 "metadata": {
  "kernelspec": {
   "display_name": "Python 3.11.0 64-bit",
   "language": "python",
   "name": "python3"
  },
  "language_info": {
   "codemirror_mode": {
    "name": "ipython",
    "version": 3
   },
   "file_extension": ".py",
   "mimetype": "text/x-python",
   "name": "python",
   "nbconvert_exporter": "python",
   "pygments_lexer": "ipython3",
   "version": "3.11.0"
  },
  "orig_nbformat": 4,
  "vscode": {
   "interpreter": {
    "hash": "b14f0b7870297da0b5adeabdd449a5b69997372b8f28186ff22d755ebbc2d6cc"
   }
  }
 },
 "nbformat": 4,
 "nbformat_minor": 2
}
